{
  "nbformat": 4,
  "nbformat_minor": 0,
  "metadata": {
    "colab": {
      "provenance": []
    },
    "kernelspec": {
      "name": "python3",
      "display_name": "Python 3"
    },
    "language_info": {
      "name": "python"
    }
  },
  "cells": [
    {
      "cell_type": "code",
      "execution_count": 7,
      "metadata": {
        "colab": {
          "base_uri": "https://localhost:8080/"
        },
        "id": "jWqo5dxrGU9V",
        "outputId": "962dc17b-ba83-499b-ab0d-3a076c4f21f4"
      },
      "outputs": [
        {
          "output_type": "stream",
          "name": "stdout",
          "text": [
            "[1, 'a', 'cat', 2, 3, 'dog', 4, 5]\n"
          ]
        }
      ],
      "source": [
        "def flatten(lst):\n",
        "    result = []\n",
        "    for item in lst:\n",
        "        if isinstance(item, list):\n",
        "            result.extend(flatten(item))\n",
        "        else:\n",
        "            result.append(item)\n",
        "    return result\n",
        "\n",
        "# Örnek\n",
        "input1 = [[1, 'a', ['cat'], 2], [[[3]], 'dog'], 4, 5]\n",
        "print(flatten(input1))  # Output: [1, 'a', 'cat', 2, 3, 'dog', 4, 5]\n"
      ]
    },
    {
      "cell_type": "code",
      "source": [
        "def reverse_all(lst):\n",
        "    reversed_list = []\n",
        "    for item in reversed(lst):\n",
        "        if isinstance(item, list):\n",
        "            reversed_list.append(reverse_all(item))\n",
        "        else:\n",
        "            reversed_list.append(item)\n",
        "    return reversed_list\n",
        "\n",
        "# Örnek\n",
        "input2 = [[1, 2], [3, 4], [5, 6, 7]]\n",
        "print(reverse_all(input2))  # Output: [[[7, 6, 5], [4, 3], [2, 1]]]\n"
      ],
      "metadata": {
        "colab": {
          "base_uri": "https://localhost:8080/"
        },
        "id": "zERdW8AlIMQt",
        "outputId": "83a18388-7c60-4b63-9a7a-c23047fb2526"
      },
      "execution_count": 9,
      "outputs": [
        {
          "output_type": "stream",
          "name": "stdout",
          "text": [
            "[[7, 6, 5], [4, 3], [2, 1]]\n"
          ]
        }
      ]
    }
  ]
}